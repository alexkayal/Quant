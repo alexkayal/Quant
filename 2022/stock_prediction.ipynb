{
 "cells": [
  {
   "cell_type": "code",
   "execution_count": 1,
   "metadata": {},
   "outputs": [
    {
     "ename": "ModuleNotFoundError",
     "evalue": "No module named 'ta'",
     "output_type": "error",
     "traceback": [
      "\u001b[0;31m---------------------------------------------------------------------------\u001b[0m",
      "\u001b[0;31mModuleNotFoundError\u001b[0m                       Traceback (most recent call last)",
      "\u001b[0;32m/var/folders/cr/2_qqg8dj5mvchp4h_b_wydh40000gn/T/ipykernel_80577/540956499.py\u001b[0m in \u001b[0;36m<module>\u001b[0;34m\u001b[0m\n\u001b[1;32m      2\u001b[0m \u001b[0;32mimport\u001b[0m \u001b[0mmatplotlib\u001b[0m\u001b[0;34m.\u001b[0m\u001b[0mpyplot\u001b[0m \u001b[0;32mas\u001b[0m \u001b[0mplt\u001b[0m\u001b[0;34m\u001b[0m\u001b[0;34m\u001b[0m\u001b[0m\n\u001b[1;32m      3\u001b[0m \u001b[0;32mimport\u001b[0m \u001b[0mpandas\u001b[0m \u001b[0;32mas\u001b[0m \u001b[0mpd\u001b[0m\u001b[0;34m\u001b[0m\u001b[0;34m\u001b[0m\u001b[0m\n\u001b[0;32m----> 4\u001b[0;31m \u001b[0;32mimport\u001b[0m \u001b[0mta\u001b[0m\u001b[0;34m\u001b[0m\u001b[0;34m\u001b[0m\u001b[0m\n\u001b[0m\u001b[1;32m      5\u001b[0m \u001b[0;32mfrom\u001b[0m \u001b[0msklearn\u001b[0m\u001b[0;34m.\u001b[0m\u001b[0mmodel_selection\u001b[0m \u001b[0;32mimport\u001b[0m \u001b[0mtrain_test_split\u001b[0m\u001b[0;34m\u001b[0m\u001b[0;34m\u001b[0m\u001b[0m\n\u001b[1;32m      6\u001b[0m \u001b[0;32mfrom\u001b[0m \u001b[0msklearn\u001b[0m\u001b[0;34m.\u001b[0m\u001b[0mmodel_selection\u001b[0m \u001b[0;32mimport\u001b[0m \u001b[0mTimeSeriesSplit\u001b[0m\u001b[0;34m\u001b[0m\u001b[0;34m\u001b[0m\u001b[0m\n",
      "\u001b[0;31mModuleNotFoundError\u001b[0m: No module named 'ta'"
     ]
    }
   ],
   "source": [
    "from pandas_datareader import data\n",
    "import matplotlib.pyplot as plt\n",
    "import pandas as pd\n",
    "import ta\n",
    "from sklearn.model_selection import train_test_split\n",
    "from sklearn.model_selection import TimeSeriesSplit\n",
    "from sklearn.neural_network import MLPRegressor"
   ]
  },
  {
   "cell_type": "code",
   "execution_count": 2,
   "metadata": {},
   "outputs": [
    {
     "name": "stdout",
     "output_type": "stream",
     "text": [
      "5y\n"
     ]
    }
   ],
   "source": [
    "# Define the instruments to download. We would like to see Apple, Microsoft and the S&P500 index.\n",
    "tickers = ['AAPL', 'MSFT', '^GSPC']\n",
    "\n",
    "# We would like all available data from 01/01/2000 until 12/31/2016.\n",
    "start_date = '2013-01-01'\n",
    "end_date = '2018-07-15'\n",
    "\n",
    "# User pandas_reader.data.DataReader to load the desired data. As simple as that.\n",
    "panel_data = data.DataReader('MSFT', 'iex', start_date, end_date)"
   ]
  },
  {
   "cell_type": "code",
   "execution_count": 2,
   "metadata": {},
   "outputs": [
    {
     "name": "stdout",
     "output_type": "stream",
     "text": [
      "Looking in indexes: https://pypi.org/simple, https://nexus.carnext.io/repository/python-data/simple/\n",
      "Collecting ta\n",
      "  Downloading ta-0.8.0.tar.gz (24 kB)\n",
      "  Preparing metadata (setup.py) ... \u001b[?25ldone\n",
      "\u001b[?25hRequirement already satisfied: numpy in /usr/local/Cellar/jupyterlab/3.2.4/libexec/lib/python3.9/site-packages (from ta) (1.21.4)\n",
      "Requirement already satisfied: pandas in /usr/local/Cellar/jupyterlab/3.2.4/libexec/lib/python3.9/site-packages (from ta) (1.3.5)\n",
      "Requirement already satisfied: python-dateutil>=2.7.3 in /usr/local/Cellar/jupyterlab/3.2.4/libexec/lib/python3.9/site-packages (from pandas->ta) (2.8.2)\n",
      "Requirement already satisfied: pytz>=2017.3 in /usr/local/Cellar/jupyterlab/3.2.4/libexec/lib/python3.9/site-packages (from pandas->ta) (2021.3)\n",
      "Requirement already satisfied: six>=1.5 in /usr/local/Cellar/six/1.16.0_2/lib/python3.9/site-packages (from python-dateutil>=2.7.3->pandas->ta) (1.16.0)\n",
      "Building wheels for collected packages: ta\n",
      "  Building wheel for ta (setup.py) ... \u001b[?25ldone\n",
      "\u001b[?25h  Created wheel for ta: filename=ta-0.8.0-py3-none-any.whl size=28895 sha256=f2ac78f66359e06bd220d458a337eb68b61706105d56f15182a8fbac53008803\n",
      "  Stored in directory: /Users/alexkayal/Library/Caches/pip/wheels/fc/70/ae/a83dc5fd06e1982a6960039a4d7cdb22c408c70c8c29def5cb\n",
      "Successfully built ta\n",
      "Installing collected packages: ta\n",
      "Successfully installed ta-0.8.0\n",
      "Note: you may need to restart the kernel to use updated packages.\n"
     ]
    }
   ],
   "source": [
    "pip install ta"
   ]
  },
  {
   "cell_type": "code",
   "execution_count": 3,
   "metadata": {},
   "outputs": [
    {
     "data": {
      "text/html": [
       "<div>\n",
       "<style scoped>\n",
       "    .dataframe tbody tr th:only-of-type {\n",
       "        vertical-align: middle;\n",
       "    }\n",
       "\n",
       "    .dataframe tbody tr th {\n",
       "        vertical-align: top;\n",
       "    }\n",
       "\n",
       "    .dataframe thead th {\n",
       "        text-align: right;\n",
       "    }\n",
       "</style>\n",
       "<table border=\"1\" class=\"dataframe\">\n",
       "  <thead>\n",
       "    <tr style=\"text-align: right;\">\n",
       "      <th></th>\n",
       "      <th>open</th>\n",
       "      <th>high</th>\n",
       "      <th>low</th>\n",
       "      <th>close</th>\n",
       "      <th>volume</th>\n",
       "    </tr>\n",
       "    <tr>\n",
       "      <th>date</th>\n",
       "      <th></th>\n",
       "      <th></th>\n",
       "      <th></th>\n",
       "      <th></th>\n",
       "      <th></th>\n",
       "    </tr>\n",
       "  </thead>\n",
       "  <tbody>\n",
       "    <tr>\n",
       "      <th>2013-07-16</th>\n",
       "      <td>31.7274</td>\n",
       "      <td>32.0973</td>\n",
       "      <td>31.6833</td>\n",
       "      <td>31.9565</td>\n",
       "      <td>36378481</td>\n",
       "    </tr>\n",
       "    <tr>\n",
       "      <th>2013-07-17</th>\n",
       "      <td>32.0181</td>\n",
       "      <td>32.0622</td>\n",
       "      <td>31.2692</td>\n",
       "      <td>31.4895</td>\n",
       "      <td>37281516</td>\n",
       "    </tr>\n",
       "    <tr>\n",
       "      <th>2013-07-18</th>\n",
       "      <td>31.4719</td>\n",
       "      <td>31.6216</td>\n",
       "      <td>31.0313</td>\n",
       "      <td>31.2252</td>\n",
       "      <td>49118611</td>\n",
       "    </tr>\n",
       "    <tr>\n",
       "      <th>2013-07-19</th>\n",
       "      <td>28.5467</td>\n",
       "      <td>28.7846</td>\n",
       "      <td>27.3308</td>\n",
       "      <td>27.6656</td>\n",
       "      <td>248354245</td>\n",
       "    </tr>\n",
       "    <tr>\n",
       "      <th>2013-07-22</th>\n",
       "      <td>27.9300</td>\n",
       "      <td>28.2031</td>\n",
       "      <td>27.8419</td>\n",
       "      <td>28.2031</td>\n",
       "      <td>79024753</td>\n",
       "    </tr>\n",
       "  </tbody>\n",
       "</table>\n",
       "</div>"
      ],
      "text/plain": [
       "               open     high      low    close     volume\n",
       "date                                                     \n",
       "2013-07-16  31.7274  32.0973  31.6833  31.9565   36378481\n",
       "2013-07-17  32.0181  32.0622  31.2692  31.4895   37281516\n",
       "2013-07-18  31.4719  31.6216  31.0313  31.2252   49118611\n",
       "2013-07-19  28.5467  28.7846  27.3308  27.6656  248354245\n",
       "2013-07-22  27.9300  28.2031  27.8419  28.2031   79024753"
      ]
     },
     "execution_count": 3,
     "metadata": {},
     "output_type": "execute_result"
    }
   ],
   "source": [
    "panel_data.head()"
   ]
  },
  {
   "cell_type": "code",
   "execution_count": 4,
   "metadata": {},
   "outputs": [
    {
     "name": "stdout",
     "output_type": "stream",
     "text": [
      "1259\n"
     ]
    },
    {
     "data": {
      "image/png": "[encoded data removed]",
      "text/plain": [
       "<Figure size 432x288 with 1 Axes>"
      ]
     },
     "metadata": {},
     "output_type": "display_data"
    }
   ],
   "source": [
    "plt.plot(panel_data['open'][:50])\n",
    "plt.plot(panel_data['close'][:50])\n",
    "print (len(panel_data))"
   ]
  },
  {
   "cell_type": "code",
   "execution_count": 5,
   "metadata": {},
   "outputs": [],
   "source": [
    "df = panel_data "
   ]
  },
  {
   "cell_type": "code",
   "execution_count": 6,
   "metadata": {},
   "outputs": [],
   "source": [
    "# x = ta.trend.ema_fast(df['close'], n_fast=10 ,fillna=True)\n",
    "# y = ta.trend.ema_slow(df['close'], n_slow=100 ,fillna=True)\n",
    "rsi14  = ta.momentum.rsi(df['close'], n=14, fillna=False)\n",
    "mv3 = df['close'].rolling(window=3).mean()\n",
    "mv10 = df['close'].rolling(window=10).mean()\n",
    "\n",
    "# df = df.append\n",
    "# dft = df.append(r, axis=0)\n",
    "# print (type(df['close']))\n",
    "# print (type(r))\n",
    "# df['close']"
   ]
  },
  {
   "cell_type": "code",
   "execution_count": null,
   "metadata": {},
   "outputs": [
    {
     "data": {
      "text/plain": [
       "[<matplotlib.lines.Line2D at 0x1dc44e62550>]"
      ]
     },
     "execution_count": 152,
     "metadata": {},
     "output_type": "execute_result"
    }
   ],
   "source": [
    "plt.plot(panel_data['close'][14:])\n",
    "plt.plot(r[14:])"
   ]
  },
  {
   "cell_type": "code",
   "execution_count": 8,
   "metadata": {
    "collapsed": true
   },
   "outputs": [
    {
     "data": {
      "text/plain": [
       "date\n",
       "2013-08-05     27.9300\n",
       "2013-08-06     27.8242\n",
       "2013-08-07     28.2498\n",
       "2013-08-08     28.9784\n",
       "2013-08-09     28.8110\n",
       "2013-08-12     28.9608\n",
       "2013-08-13     28.5970\n",
       "2013-08-14     28.7035\n",
       "2013-08-15     28.2066\n",
       "2013-08-16     28.2155\n",
       "2013-08-19     27.8544\n",
       "2013-08-20     28.0558\n",
       "2013-08-21     28.0469\n",
       "2013-08-22     28.7390\n",
       "2013-08-23     30.8330\n",
       "2013-08-26     30.3006\n",
       "2013-08-27     29.5109\n",
       "2013-08-28     29.2980\n",
       "2013-08-29     29.7682\n",
       "2013-08-30     29.6351\n",
       "2013-09-03     28.2865\n",
       "2013-09-04     27.6787\n",
       "2013-09-05     27.7142\n",
       "2013-09-06     27.6405\n",
       "2013-09-09     28.0868\n",
       "2013-09-10     28.7390\n",
       "2013-09-11     29.0495\n",
       "2013-09-12     29.0052\n",
       "2013-09-13     29.3068\n",
       "2013-09-16     29.1037\n",
       "                ...   \n",
       "2018-06-01    100.7900\n",
       "2018-06-04    101.6700\n",
       "2018-06-05    102.1900\n",
       "2018-06-06    102.4900\n",
       "2018-06-07    100.8800\n",
       "2018-06-08    101.6300\n",
       "2018-06-11    101.0500\n",
       "2018-06-12    101.3100\n",
       "2018-06-13    100.8500\n",
       "2018-06-14    101.4200\n",
       "2018-06-15    100.1300\n",
       "2018-06-18    100.8600\n",
       "2018-06-19    100.8600\n",
       "2018-06-20    101.8700\n",
       "2018-06-21    101.1400\n",
       "2018-06-22    100.4100\n",
       "2018-06-25     98.3900\n",
       "2018-06-26     99.0800\n",
       "2018-06-27     97.5400\n",
       "2018-06-28     98.6300\n",
       "2018-06-29     98.6100\n",
       "2018-07-02    100.0100\n",
       "2018-07-03     99.0500\n",
       "2018-07-05     99.7600\n",
       "2018-07-06    101.1600\n",
       "2018-07-09    101.8500\n",
       "2018-07-10    102.1200\n",
       "2018-07-11    101.9800\n",
       "2018-07-12    104.1900\n",
       "2018-07-13    105.4300\n",
       "Name: close, Length: 1245, dtype: float64"
      ]
     },
     "execution_count": 8,
     "metadata": {},
     "output_type": "execute_result"
    }
   ],
   "source": [
    "# dff = pd.concat([rsi14, mv3, mv10, df['close']], axis=1)[14:]\n",
    "dff = pd.concat([rsi14, mv3, mv10], axis=1)[14:]\n",
    "Y = df['close'][14:]\n",
    "Y"
   ]
  },
  {
   "cell_type": "code",
   "execution_count": 10,
   "metadata": {},
   "outputs": [
    {
     "name": "stdout",
     "output_type": "stream",
     "text": [
      "996\n"
     ]
    }
   ],
   "source": [
    "n = int(len(dff)*0.8)\n",
    "\n",
    "\n",
    "X_train = dff[:n]\n",
    "Y_train = Y[:n]\n",
    "X_test = dff[n:]\n",
    "Y_test = Y[n:]\n",
    "print (len(X_train))"
   ]
  },
  {
   "cell_type": "code",
   "execution_count": 26,
   "metadata": {},
   "outputs": [
    {
     "data": {
      "text/plain": [
       "[<matplotlib.lines.Line2D at 0x2746c4e71d0>]"
      ]
     },
     "execution_count": 26,
     "metadata": {},
     "output_type": "execute_result"
    },
    {
     "data": {
      "image/png": "[encoded data removed]",
      "text/plain": [
       "<Figure size 432x288 with 1 Axes>"
      ]
     },
     "metadata": {},
     "output_type": "display_data"
    }
   ],
   "source": [
    "model = MLPRegressor(hidden_layer_sizes=4, max_iter=1000)\n",
    "model.fit(X_train, Y_train)\n",
    "predicted = model.predict(X_test)\n",
    "plt.plot(predicted)\n",
    "plt.plot(Y_test)\n",
    "# predicted\n"
   ]
  }
 ],
 "metadata": {
  "kernelspec": {
   "display_name": "Python 3 (ipykernel)",
   "language": "python",
   "name": "python3"
  },
  "language_info": {
   "codemirror_mode": {
    "name": "ipython",
    "version": 3
   },
   "file_extension": ".py",
   "mimetype": "text/x-python",
   "name": "python",
   "nbconvert_exporter": "python",
   "pygments_lexer": "ipython3",
   "version": "3.9.9"
  }
 },
 "nbformat": 4,
 "nbformat_minor": 2
}
